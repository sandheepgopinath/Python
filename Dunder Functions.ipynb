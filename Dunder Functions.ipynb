{
 "cells": [
  {
   "cell_type": "markdown",
   "metadata": {},
   "source": [
    "## Python Dunder Functions"
   ]
  },
  {
   "cell_type": "markdown",
   "metadata": {},
   "source": [
    "### Some of the common Dunder functions used are \n",
    "> __len__  \n",
    "> __getitem__  \n",
    "> __setitem__  \n",
    "> __init__\n"
   ]
  },
  {
   "cell_type": "code",
   "execution_count": 177,
   "metadata": {},
   "outputs": [],
   "source": [
    "class Employee(object):\n",
    "    \n",
    "    #Defining an Init function which will be activated every time an object is created\n",
    "    def __init__(self,no_records):\n",
    "        self.emp_id=[None]*no_records\n",
    "        self.emp_name=[None]*no_records\n",
    "        print('Init function activated')\n",
    "        \n",
    "        \n",
    "    # Creating a customized length function for the class. Access it using len(object_name)\n",
    "    def __len__(self):\n",
    "        return len(self.emp_id)\n",
    "\n",
    "    # Returns the item from the class objects. Access it using objectname[id]\n",
    "    def __getitem__(self,_id):\n",
    "        return self.emp_id[_id],self.emp_name[_id]        \n",
    "        \n",
    "    def __setitem__(self,_id,eid):\n",
    "        self.emp_id[_id]=eid\n",
    "        self.emp_name[_id]='Test name'"
   ]
  },
  {
   "cell_type": "code",
   "execution_count": 178,
   "metadata": {
    "scrolled": true
   },
   "outputs": [
    {
     "name": "stdout",
     "output_type": "stream",
     "text": [
      "Init function activated\n"
     ]
    }
   ],
   "source": [
    "obj=Employee(10)"
   ]
  },
  {
   "cell_type": "code",
   "execution_count": 179,
   "metadata": {},
   "outputs": [],
   "source": [
    "obj[0]=2434"
   ]
  },
  {
   "cell_type": "code",
   "execution_count": 180,
   "metadata": {},
   "outputs": [
    {
     "name": "stdout",
     "output_type": "stream",
     "text": [
      "(2434, 'Test name')\n"
     ]
    }
   ],
   "source": [
    "print(obj[0])\n"
   ]
  },
  {
   "cell_type": "code",
   "execution_count": null,
   "metadata": {},
   "outputs": [],
   "source": []
  }
 ],
 "metadata": {
  "kernelspec": {
   "display_name": "my_env",
   "language": "python",
   "name": "my_env"
  },
  "language_info": {
   "codemirror_mode": {
    "name": "ipython",
    "version": 3
   },
   "file_extension": ".py",
   "mimetype": "text/x-python",
   "name": "python",
   "nbconvert_exporter": "python",
   "pygments_lexer": "ipython3",
   "version": "3.6.10"
  }
 },
 "nbformat": 4,
 "nbformat_minor": 4
}
